{
 "cells": [
  {
   "cell_type": "markdown",
   "metadata": {},
   "source": [
    "# Introducing the Keras Sequential API\n",
    "\n",
    "**Learning Objectives**\n",
    "  1. Build a DNN model using the Keras Sequential API\n",
    "  1. Learn how to use feature columns in a Keras model\n",
    "  1. Learn how to train a model with Keras\n",
    "  1. Learn how to save/load, and deploy a Keras model on GCP\n",
    "  1. Learn how to deploy and make predictions with at Keras model\n",
    "\n",
    "## Introduction\n",
    "\n",
    "The [Keras sequential API](https://keras.io/models/sequential/) allows you to create Tensorflow models layer-by-layer. This is useful for building most kinds of machine learning models but it does not allow you to create models that share layers, re-use layers or have multiple inputs or outputs. \n",
    "\n",
    "In this lab, we'll see how to build a simple deep neural network model using the Keras sequential api and feature columns. Once we have trained our model, we will deploy it using AI Platform and see how to call our model for online prediciton.\n",
    "\n",
    "Each learning objective will correspond to a __#TODO__ in the [student lab notebook](https://github.com/GoogleCloudPlatform/training-data-analyst/blob/master/courses/machine_learning/deepdive2/introduction_to_tensorflow/labs/3_keras_sequential_api.ipynb) -- try to complete that notebook first before reviewing this solution notebook.\n"
   ]
  },
  {
   "cell_type": "code",
   "execution_count": 1,
   "metadata": {},
   "outputs": [],
   "source": [
    "# Use the chown command to change the ownership of repository to user\n",
    "!sudo chown -R jupyter:jupyter /home/jupyter/training-data-analyst"
   ]
  },
  {
   "cell_type": "code",
   "execution_count": 2,
   "metadata": {},
   "outputs": [
    {
     "name": "stdout",
     "output_type": "stream",
     "text": [
      "2.1.3\n"
     ]
    }
   ],
   "source": [
    "# The datetime module used to work with dates as date objects.\n",
    "import datetime\n",
    "# The OS module in python provides functions for interacting with the operating system.\n",
    "import os\n",
    "# The shutil module in Python provides many functions of high-level operations on files and collections of files.\n",
    "# This module helps in automating process of copying and removal of files and directories.\n",
    "import shutil\n",
    "\n",
    "# Here we'll import data processing libraries like Numpy, Pandas and Tensorflow\n",
    "import numpy as np\n",
    "import pandas as pd\n",
    "import tensorflow as tf\n",
    "\n",
    "# Import pyplot package from matplotlib library\n",
    "from matplotlib import pyplot as plt\n",
    "# Import keras package from tensorflow library\n",
    "from tensorflow import keras\n",
    "\n",
    "# Import Sequential function from tensorflow.keras.models\n",
    "from tensorflow.keras.models import Sequential\n",
    "# Import Dense, DenseFeatures function from tensorflow.keras.layers\n",
    "from tensorflow.keras.layers import Dense, DenseFeatures\n",
    "# Import TensorBoard function from tensorflow.keras.callbacks\n",
    "from tensorflow.keras.callbacks import TensorBoard\n",
    "\n",
    "# Here we'll show the currently installed version of TensorFlow\n",
    "print(tf.__version__)\n",
    "%matplotlib inline"
   ]
  },
  {
   "cell_type": "markdown",
   "metadata": {},
   "source": [
    "## Load raw data \n",
    "\n",
    "We will use the taxifare dataset, using the CSV files that we created in the first notebook of this sequence. Those files have been saved into `../data`."
   ]
  },
  {
   "cell_type": "code",
   "execution_count": 3,
   "metadata": {},
   "outputs": [
    {
     "name": "stdout",
     "output_type": "stream",
     "text": [
      "-rw-r--r-- 1 jupyter jupyter 123590 May 24 03:52 ../data/taxi-test.csv\n",
      "-rw-r--r-- 1 jupyter jupyter 579055 May 24 03:52 ../data/taxi-train.csv\n",
      "-rw-r--r-- 1 jupyter jupyter 123114 May 24 03:52 ../data/taxi-valid.csv\n"
     ]
    }
   ],
   "source": [
    "# ls shows the working directory's contents.\n",
    "# Using -l parameter will lists the files with assigned permissions\n",
    "!ls -l ../data/*.csv"
   ]
  },
  {
   "cell_type": "code",
   "execution_count": 4,
   "metadata": {},
   "outputs": [
    {
     "name": "stdout",
     "output_type": "stream",
     "text": [
      "==> ../data/taxi-test.csv <==\n",
      "6.0,2013-03-27 03:35:00 UTC,-73.977672,40.784052,-73.965332,40.801025,2,0\n",
      "19.3,2012-05-10 18:43:16 UTC,-73.954366,40.778924,-74.004094,40.723104,1,1\n",
      "7.5,2014-05-20 23:09:00 UTC,-73.999165,40.738377,-74.003473,40.723862,2,2\n",
      "12.5,2015-02-23 19:51:31 UTC,-73.9652099609375,40.76948165893555,-73.98949432373047,40.739742279052734,1,3\n",
      "10.9,2011-03-19 03:32:00 UTC,-73.99259,40.742957,-73.989908,40.711053,1,4\n",
      "7.0,2012-09-18 12:51:11 UTC,-73.971195,40.751566,-73.975922,40.756361,1,5\n",
      "19.0,2014-05-20 23:09:00 UTC,-73.998392,40.74517,-73.939845,40.74908,1,6\n",
      "8.9,2012-07-18 08:46:08 UTC,-73.997638,40.756541,-73.973303,40.762019,1,7\n",
      "4.5,2010-07-11 20:39:08 UTC,-73.976738,40.751321,-73.986671,40.74883,1,8\n",
      "7.0,2013-12-12 02:16:40 UTC,-73.985024,40.767537,-73.981273,40.779302,1,9\n",
      "\n",
      "==> ../data/taxi-train.csv <==\n",
      "11.3,2011-01-28 20:42:59 UTC,-73.999022,40.739146,-73.990369,40.717866,1,0\n",
      "7.7,2011-06-27 04:28:06 UTC,-73.987443,40.729221,-73.979013,40.758641,1,1\n",
      "10.5,2011-04-03 00:54:53 UTC,-73.982539,40.735725,-73.954797,40.778388,1,2\n",
      "16.2,2009-04-10 04:11:56 UTC,-74.001945,40.740505,-73.91385,40.758559,1,3\n",
      "33.5,2014-02-24 18:22:00 UTC,-73.993372,40.753382,-73.8609,40.732897,2,4\n",
      "6.9,2011-12-10 00:25:23 UTC,-73.996237,40.721848,-73.989416,40.718052,1,5\n",
      "6.1,2012-09-01 14:30:19 UTC,-73.977048,40.758461,-73.984899,40.744693,2,6\n",
      "9.5,2012-11-08 13:28:07 UTC,-73.969402,40.757545,-73.950049,40.776079,1,7\n",
      "9.0,2014-07-15 11:37:25 UTC,-73.979318,40.760949,-73.95767,40.773724,1,8\n",
      "3.3,2009-11-09 18:06:58 UTC,-73.955675,40.779154,-73.961172,40.772368,1,9\n",
      "\n",
      "==> ../data/taxi-valid.csv <==\n",
      "5.3,2012-01-03 19:21:35 UTC,-73.962627,40.763214,-73.973485,40.753353,1,0\n",
      "25.3,2010-09-27 07:30:15 UTC,-73.965799,40.794243,-73.927134,40.852261,3,1\n",
      "27.5,2015-05-19 00:40:02 UTC,-73.86344146728516,40.76899719238281,-73.96058654785156,40.76129913330078,1,2\n",
      "5.7,2010-04-29 12:28:00 UTC,-73.989255,40.738912,-73.97558,40.749172,1,3\n",
      "11.5,2013-06-23 06:08:09 UTC,-73.99731,40.763735,-73.955657,40.768141,1,4\n",
      "18.0,2014-10-14 18:52:03 UTC,-73.997995,40.761638,-74.008985,40.712442,1,5\n",
      "4.9,2010-04-29 12:28:00 UTC,-73.977315,40.766182,-73.970845,40.761462,5,6\n",
      "32.33,2014-02-24 18:22:00 UTC,-73.985358,40.761352,-73.92427,40.699145,1,7\n",
      "17.0,2015-03-26 02:48:58 UTC,-73.93981170654297,40.846473693847656,-73.97361755371094,40.786983489990234,1,8\n",
      "12.5,2013-04-09 09:39:13 UTC,-73.977323,40.753934,-74.00719,40.741472,1,9\n"
     ]
    }
   ],
   "source": [
    "# Output the first ten rows from the file where name having prefix `taxi`.\n",
    "!head ../data/taxi*.csv"
   ]
  },
  {
   "cell_type": "markdown",
   "metadata": {},
   "source": [
    "## Use tf.data to read the CSV files\n",
    "\n",
    "We wrote these functions for reading data from the csv files above in the [previous notebook](https://github.com/GoogleCloudPlatform/training-data-analyst/blob/master/courses/machine_learning/deepdive2/introduction_to_tensorflow/labs/2_dataset_api.ipynb)."
   ]
  },
  {
   "cell_type": "code",
   "execution_count": 5,
   "metadata": {},
   "outputs": [],
   "source": [
    "# Defining the feature names into a list `CSV_COLUMNS`\n",
    "CSV_COLUMNS = [\n",
    "    'fare_amount',\n",
    "    'pickup_datetime',\n",
    "    'pickup_longitude',\n",
    "    'pickup_latitude',\n",
    "    'dropoff_longitude',\n",
    "    'dropoff_latitude',\n",
    "    'passenger_count',\n",
    "    'key'\n",
    "]\n",
    "LABEL_COLUMN = 'fare_amount'\n",
    "# Defining the default values into a list `DEFAULTS`\n",
    "DEFAULTS = [[0.0], ['na'], [0.0], [0.0], [0.0], [0.0], [0.0], ['na']]\n",
    "UNWANTED_COLS = ['pickup_datetime', 'key']\n",
    "\n",
    "\n",
    "def features_and_labels(row_data):\n",
    "# The .pop() method will return item and drop from frame. \n",
    "    label = row_data.pop(LABEL_COLUMN)\n",
    "    features = row_data\n",
    "    \n",
    "    for unwanted_col in UNWANTED_COLS:\n",
    "        features.pop(unwanted_col)\n",
    "\n",
    "    return features, label\n",
    "\n",
    "\n",
    "def create_dataset(pattern, batch_size=1, mode='eval'):\n",
    "# The tf.data.experimental.make_csv_dataset() method reads CSV files into a dataset\n",
    "    dataset = tf.data.experimental.make_csv_dataset(\n",
    "        pattern, batch_size, CSV_COLUMNS, DEFAULTS)\n",
    "\n",
    "# The map() function executes a specified function for each item in an iterable.\n",
    "# The item is sent to the function as a parameter.\n",
    "    dataset = dataset.map(features_and_labels)\n",
    "\n",
    "    if mode == 'train':\n",
    "# The shuffle() method takes a sequence (list, string, or tuple) and reorganize the order of the items.\n",
    "        dataset = dataset.shuffle(buffer_size=1000).repeat()\n",
    "\n",
    "    # take advantage of multi-threading; 1=AUTOTUNE\n",
    "    dataset = dataset.prefetch(1)\n",
    "    return dataset"
   ]
  },
  {
   "cell_type": "markdown",
   "metadata": {},
   "source": [
    "## Build a simple keras DNN model\n",
    "\n",
    "We will use feature columns to connect our raw data to our keras DNN model. Feature columns make it easy to perform common types of feature engineering on your raw data. For example, you can one-hot encode categorical data, create feature crosses, embeddings and more. We'll cover these in more detail later in the course, but if you want to a sneak peak browse the official TensorFlow [feature columns guide](https://www.tensorflow.org/guide/feature_columns).\n",
    "\n",
    "In our case we won't do any feature engineering. However, we still need to create a list of feature columns to specify the numeric values which will be passed on to our model. To do this, we use `tf.feature_column.numeric_column()`\n",
    "\n",
    "We use a python dictionary comprehension to create the feature columns for our model, which is just an elegant alternative to a for loop."
   ]
  },
  {
   "cell_type": "code",
   "execution_count": 6,
   "metadata": {},
   "outputs": [],
   "source": [
    "# Defining the feature names into a list `INPUT_COLS`\n",
    "INPUT_COLS = [\n",
    "    'pickup_longitude',\n",
    "    'pickup_latitude',\n",
    "    'dropoff_longitude',\n",
    "    'dropoff_latitude',\n",
    "    'passenger_count',\n",
    "]\n",
    "\n",
    "# Create input layer of feature columns\n",
    "# TODO 1\n",
    "feature_columns = {\n",
    "    colname: tf.feature_column.numeric_column(colname)\n",
    "    for colname in INPUT_COLS\n",
    "    }"
   ]
  },
  {
   "cell_type": "markdown",
   "metadata": {},
   "source": [
    "Next, we create the DNN model. The Sequential model is a linear stack of layers and when building a model using the Sequential API, you configure each layer of the model in turn. Once all the layers have been added, you compile the model. "
   ]
  },
  {
   "cell_type": "code",
   "execution_count": 7,
   "metadata": {},
   "outputs": [],
   "source": [
    "# Build a keras DNN model using Sequential API\n",
    "# TODO 2a\n",
    "model = Sequential([\n",
    "    DenseFeatures(feature_columns=feature_columns.values()),\n",
    "    Dense(units=32, activation=\"relu\", name=\"h1\"),\n",
    "    Dense(units=18, activation=\"relu\", name=\"h2\"),\n",
    "    Dense(units=19, activation=\"linear\", name=\"output\")\n",
    "    ])"
   ]
  },
  {
   "cell_type": "markdown",
   "metadata": {},
   "source": [
    "Next, to prepare the model for training, you must configure the learning process. This is done using the compile method. The compile method takes three arguments:\n",
    "\n",
    "* An optimizer. This could be the string identifier of an existing optimizer (such as `rmsprop` or `adagrad`), or an instance of the [Optimizer class](https://www.tensorflow.org/versions/r2.0/api_docs/python/tf/keras/optimizers).\n",
    "* A loss function. This is the objective that the model will try to minimize. It can be the string identifier of an existing loss function from the [Losses class](https://www.tensorflow.org/versions/r2.0/api_docs/python/tf/keras/losses) (such as categorical_crossentropy or mse), or it can be a custom objective function.\n",
    "* A list of metrics. For any machine learning problem you will want a set of metrics to evaluate your model. A metric could be the string identifier of an existing metric or a custom metric function.\n",
    "\n",
    "We will add an additional custom metric called `rmse` to our list of metrics which will return the root mean square error. "
   ]
  },
  {
   "cell_type": "code",
   "execution_count": 8,
   "metadata": {},
   "outputs": [],
   "source": [
    "# TODO 2b\n",
    "# Create a custom evalution metric\n",
    "def rmse(y_true, y_pred):\n",
    "    return tf.sqrt(tf.reduce_mean(tf.square(y_pred - y_true)))\n",
    "\n",
    "\n",
    "# Compile the keras model\n",
    "model.compile(optimizer=\"adam\", loss=\"mse\", metrics=[rmse, \"mse\"])"
   ]
  },
  {
   "cell_type": "markdown",
   "metadata": {},
   "source": [
    "## Train the model\n",
    "\n",
    "To train your model, Keras provides three functions that can be used:\n",
    " 1. `.fit()` for training a model for a fixed number of epochs (iterations on a dataset).\n",
    " 2. `.fit_generator()` for training a model on data yielded batch-by-batch by a generator\n",
    " 3. `.train_on_batch()` runs a single gradient update on a single batch of data. \n",
    " \n",
    "The `.fit()` function works well for small datasets which can fit entirely in memory. However, for large datasets (or if you need to manipulate the training data on the fly via data augmentation, etc) you will need to use `.fit_generator()` instead. The `.train_on_batch()` method is for more fine-grained control over training and accepts only a single batch of data.\n",
    "\n",
    "The taxifare dataset we sampled is small enough to fit in memory, so can we could use `.fit` to train our model. Our `create_dataset` function above generates batches of training examples, so we could also use `.fit_generator`. In fact, when calling `.fit` the method inspects the data, and if it's a generator (as our dataset is) it will invoke automatically `.fit_generator` for training. \n",
    "\n",
    "We start by setting up some parameters for our training job and create the data generators for the training and validation data.\n",
    "\n",
    "We refer you the the blog post [ML Design Pattern #3: Virtual Epochs](https://medium.com/google-cloud/ml-design-pattern-3-virtual-epochs-f842296de730) for further details on why express the training in terms of `NUM_TRAIN_EXAMPLES` and `NUM_EVALS` and why, in this training code, the number of epochs is really equal to the number of evaluations we perform."
   ]
  },
  {
   "cell_type": "code",
   "execution_count": 9,
   "metadata": {},
   "outputs": [],
   "source": [
    "TRAIN_BATCH_SIZE = 1000\n",
    "NUM_TRAIN_EXAMPLES = 10000 * 5  # training dataset will repeat, wrap around\n",
    "NUM_EVALS = 50  # how many times to evaluate\n",
    "NUM_EVAL_EXAMPLES = 10000  # enough to get a reasonable sample\n",
    "\n",
    "trainds = create_dataset(\n",
    "    pattern='../data/taxi-train*',\n",
    "    batch_size=TRAIN_BATCH_SIZE,\n",
    "    mode='train')\n",
    "\n",
    "evalds = create_dataset(\n",
    "    pattern='../data/taxi-valid*',\n",
    "    batch_size=1000,\n",
    "    mode='eval').take(NUM_EVAL_EXAMPLES//1000)"
   ]
  },
  {
   "cell_type": "markdown",
   "metadata": {},
   "source": [
    "There are various arguments you can set when calling the [.fit method](https://www.tensorflow.org/versions/r2.0/api_docs/python/tf/keras/Model#fit). Here `x` specifies the input data which in our case is a `tf.data` dataset returning a tuple of (inputs, targets). The `steps_per_epoch` parameter is used to mark the end of training for a single epoch. Here we are training for NUM_EVALS epochs. Lastly, for the `callback` argument we specify a Tensorboard callback so we can inspect Tensorboard after training. "
   ]
  },
  {
   "cell_type": "code",
   "execution_count": 10,
   "metadata": {},
   "outputs": [
    {
     "name": "stdout",
     "output_type": "stream",
     "text": [
      "CPU times: user 2 µs, sys: 0 ns, total: 2 µs\n",
      "Wall time: 6.68 µs\n",
      "Train for 1 steps, validate for 10 steps\n",
      "Epoch 1/50\n",
      "1/1 [==============================] - 16s 16s/step - loss: 505.5068 - rmse: 22.4835 - mse: 505.5068 - val_loss: 512.6313 - val_rmse: 22.6393 - val_mse: 512.6313\n",
      "Epoch 2/50\n",
      "WARNING:tensorflow:Method (on_train_batch_end) is slow compared to the batch update (0.392104). Check your callbacks.\n",
      "1/1 [==============================] - 1s 803ms/step - loss: 461.5176 - rmse: 21.4830 - mse: 461.5176 - val_loss: 487.0295 - val_rmse: 22.0648 - val_mse: 487.0295\n",
      "Epoch 3/50\n",
      "1/1 [==============================] - 1s 518ms/step - loss: 492.4201 - rmse: 22.1905 - mse: 492.4201 - val_loss: 463.6443 - val_rmse: 21.5279 - val_mse: 463.6443\n",
      "Epoch 4/50\n",
      "1/1 [==============================] - 1s 571ms/step - loss: 420.5268 - rmse: 20.5068 - mse: 420.5268 - val_loss: 443.0258 - val_rmse: 21.0430 - val_mse: 443.0258\n",
      "Epoch 5/50\n",
      "1/1 [==============================] - 0s 451ms/step - loss: 424.0269 - rmse: 20.5919 - mse: 424.0269 - val_loss: 422.3696 - val_rmse: 20.5470 - val_mse: 422.3695\n",
      "Epoch 6/50\n",
      "1/1 [==============================] - 1s 514ms/step - loss: 405.7162 - rmse: 20.1424 - mse: 405.7162 - val_loss: 401.0647 - val_rmse: 20.0246 - val_mse: 401.0648\n",
      "Epoch 7/50\n",
      "1/1 [==============================] - 1s 509ms/step - loss: 376.2927 - rmse: 19.3983 - mse: 376.2927 - val_loss: 383.7787 - val_rmse: 19.5893 - val_mse: 383.7787\n",
      "Epoch 8/50\n",
      "1/1 [==============================] - 1s 531ms/step - loss: 354.0561 - rmse: 18.8164 - mse: 354.0561 - val_loss: 367.1228 - val_rmse: 19.1586 - val_mse: 367.1228\n",
      "Epoch 9/50\n",
      "1/1 [==============================] - 0s 429ms/step - loss: 333.8962 - rmse: 18.2728 - mse: 333.8962 - val_loss: 351.1785 - val_rmse: 18.7356 - val_mse: 351.1785\n",
      "Epoch 10/50\n",
      "1/1 [==============================] - 0s 402ms/step - loss: 317.6180 - rmse: 17.8218 - mse: 317.6180 - val_loss: 338.4344 - val_rmse: 18.3944 - val_mse: 338.4344\n",
      "Epoch 11/50\n",
      "1/1 [==============================] - 1s 524ms/step - loss: 341.1884 - rmse: 18.4713 - mse: 341.1884 - val_loss: 325.4191 - val_rmse: 18.0301 - val_mse: 325.4191\n",
      "Epoch 12/50\n",
      "1/1 [==============================] - 0s 410ms/step - loss: 285.8469 - rmse: 16.9070 - mse: 285.8469 - val_loss: 313.0574 - val_rmse: 17.6905 - val_mse: 313.0574\n",
      "Epoch 13/50\n",
      "1/1 [==============================] - 0s 390ms/step - loss: 258.4581 - rmse: 16.0766 - mse: 258.4581 - val_loss: 303.0694 - val_rmse: 17.4055 - val_mse: 303.0694\n",
      "Epoch 14/50\n",
      "1/1 [==============================] - 0s 460ms/step - loss: 270.9391 - rmse: 16.4602 - mse: 270.9391 - val_loss: 295.7884 - val_rmse: 17.1889 - val_mse: 295.7885\n",
      "Epoch 15/50\n",
      "1/1 [==============================] - 0s 452ms/step - loss: 248.1782 - rmse: 15.7537 - mse: 248.1782 - val_loss: 289.1164 - val_rmse: 16.9989 - val_mse: 289.1164\n",
      "Epoch 16/50\n",
      "1/1 [==============================] - 0s 471ms/step - loss: 257.9964 - rmse: 16.0623 - mse: 257.9964 - val_loss: 278.6791 - val_rmse: 16.6867 - val_mse: 278.6791\n",
      "Epoch 17/50\n",
      "1/1 [==============================] - 1s 565ms/step - loss: 264.6266 - rmse: 16.2673 - mse: 264.6266 - val_loss: 272.1936 - val_rmse: 16.4952 - val_mse: 272.1936\n",
      "Epoch 18/50\n",
      "1/1 [==============================] - 0s 463ms/step - loss: 285.6710 - rmse: 16.9018 - mse: 285.6710 - val_loss: 267.7812 - val_rmse: 16.3593 - val_mse: 267.7812\n",
      "Epoch 19/50\n",
      "1/1 [==============================] - 0s 432ms/step - loss: 263.8699 - rmse: 16.2441 - mse: 263.8699 - val_loss: 255.9757 - val_rmse: 15.9902 - val_mse: 255.9757\n",
      "Epoch 20/50\n",
      "1/1 [==============================] - 0s 432ms/step - loss: 248.3814 - rmse: 15.7601 - mse: 248.3814 - val_loss: 250.1043 - val_rmse: 15.8063 - val_mse: 250.1044\n",
      "Epoch 21/50\n",
      "1/1 [==============================] - 0s 411ms/step - loss: 222.4089 - rmse: 14.9134 - mse: 222.4089 - val_loss: 243.1152 - val_rmse: 15.5826 - val_mse: 243.1152\n",
      "Epoch 22/50\n",
      "1/1 [==============================] - 0s 452ms/step - loss: 224.1123 - rmse: 14.9704 - mse: 224.1123 - val_loss: 236.2493 - val_rmse: 15.3629 - val_mse: 236.2493\n",
      "Epoch 23/50\n",
      "1/1 [==============================] - 0s 495ms/step - loss: 201.5418 - rmse: 14.1965 - mse: 201.5418 - val_loss: 227.9963 - val_rmse: 15.0913 - val_mse: 227.9963\n",
      "Epoch 24/50\n",
      "1/1 [==============================] - 0s 321ms/step - loss: 216.7310 - rmse: 14.7218 - mse: 216.7310 - val_loss: 224.0765 - val_rmse: 14.9598 - val_mse: 224.0765\n",
      "Epoch 25/50\n",
      "1/1 [==============================] - 1s 511ms/step - loss: 249.2537 - rmse: 15.7878 - mse: 249.2537 - val_loss: 218.5451 - val_rmse: 14.7759 - val_mse: 218.5451\n",
      "Epoch 26/50\n",
      "1/1 [==============================] - 0s 432ms/step - loss: 167.4436 - rmse: 12.9400 - mse: 167.4436 - val_loss: 212.1047 - val_rmse: 14.5608 - val_mse: 212.1047\n",
      "Epoch 27/50\n",
      "1/1 [==============================] - 0s 449ms/step - loss: 176.6454 - rmse: 13.2908 - mse: 176.6454 - val_loss: 205.5121 - val_rmse: 14.3280 - val_mse: 205.5121\n",
      "Epoch 28/50\n",
      "1/1 [==============================] - 1s 519ms/step - loss: 206.4752 - rmse: 14.3692 - mse: 206.4752 - val_loss: 201.6204 - val_rmse: 14.1816 - val_mse: 201.6204\n",
      "Epoch 29/50\n",
      "1/1 [==============================] - 0s 450ms/step - loss: 217.7576 - rmse: 14.7566 - mse: 217.7576 - val_loss: 198.3005 - val_rmse: 14.0642 - val_mse: 198.3006\n",
      "Epoch 30/50\n",
      "1/1 [==============================] - 1s 520ms/step - loss: 167.0875 - rmse: 12.9262 - mse: 167.0875 - val_loss: 194.9888 - val_rmse: 13.9536 - val_mse: 194.9888\n",
      "Epoch 31/50\n",
      "1/1 [==============================] - 1s 539ms/step - loss: 191.1653 - rmse: 13.8263 - mse: 191.1653 - val_loss: 191.3456 - val_rmse: 13.8270 - val_mse: 191.3456\n",
      "Epoch 32/50\n",
      "1/1 [==============================] - 1s 532ms/step - loss: 163.9908 - rmse: 12.8059 - mse: 163.9908 - val_loss: 188.5138 - val_rmse: 13.7243 - val_mse: 188.5138\n",
      "Epoch 33/50\n",
      "1/1 [==============================] - 1s 581ms/step - loss: 188.2625 - rmse: 13.7209 - mse: 188.2625 - val_loss: 185.8562 - val_rmse: 13.6247 - val_mse: 185.8562\n",
      "Epoch 34/50\n",
      "1/1 [==============================] - 1s 599ms/step - loss: 163.9257 - rmse: 12.8033 - mse: 163.9257 - val_loss: 183.5989 - val_rmse: 13.5394 - val_mse: 183.5989\n",
      "Epoch 35/50\n",
      "1/1 [==============================] - 1s 530ms/step - loss: 141.9101 - rmse: 11.9126 - mse: 141.9101 - val_loss: 179.6455 - val_rmse: 13.3937 - val_mse: 179.6455\n",
      "Epoch 36/50\n",
      "1/1 [==============================] - 0s 399ms/step - loss: 181.1153 - rmse: 13.4579 - mse: 181.1153 - val_loss: 182.0820 - val_rmse: 13.4822 - val_mse: 182.0820\n",
      "Epoch 37/50\n",
      "1/1 [==============================] - 0s 381ms/step - loss: 151.1351 - rmse: 12.2937 - mse: 151.1351 - val_loss: 177.7833 - val_rmse: 13.3283 - val_mse: 177.7833\n",
      "Epoch 38/50\n",
      "1/1 [==============================] - 0s 473ms/step - loss: 133.6589 - rmse: 11.5611 - mse: 133.6589 - val_loss: 176.1933 - val_rmse: 13.2632 - val_mse: 176.1933\n",
      "Epoch 39/50\n",
      "1/1 [==============================] - 0s 469ms/step - loss: 135.4428 - rmse: 11.6380 - mse: 135.4428 - val_loss: 174.7662 - val_rmse: 13.2160 - val_mse: 174.7662\n",
      "Epoch 40/50\n",
      "1/1 [==============================] - 0s 421ms/step - loss: 159.7905 - rmse: 12.6408 - mse: 159.7905 - val_loss: 174.7838 - val_rmse: 13.2145 - val_mse: 174.7838\n",
      "Epoch 41/50\n",
      "1/1 [==============================] - 0s 405ms/step - loss: 187.4391 - rmse: 13.6908 - mse: 187.4391 - val_loss: 172.9363 - val_rmse: 13.1375 - val_mse: 172.9362\n",
      "Epoch 42/50\n",
      "1/1 [==============================] - 0s 392ms/step - loss: 164.7849 - rmse: 12.8369 - mse: 164.7849 - val_loss: 172.3301 - val_rmse: 13.1163 - val_mse: 172.3301\n",
      "Epoch 43/50\n",
      "1/1 [==============================] - 1s 511ms/step - loss: 154.4455 - rmse: 12.4276 - mse: 154.4455 - val_loss: 169.1190 - val_rmse: 13.0003 - val_mse: 169.1190\n",
      "Epoch 44/50\n",
      "1/1 [==============================] - 0s 436ms/step - loss: 125.8597 - rmse: 11.2187 - mse: 125.8597 - val_loss: 168.0468 - val_rmse: 12.9518 - val_mse: 168.0468\n",
      "Epoch 45/50\n",
      "1/1 [==============================] - 1s 508ms/step - loss: 157.8418 - rmse: 12.5635 - mse: 157.8418 - val_loss: 168.2135 - val_rmse: 12.9630 - val_mse: 168.2135\n",
      "Epoch 46/50\n",
      "1/1 [==============================] - 0s 426ms/step - loss: 170.6582 - rmse: 13.0636 - mse: 170.6582 - val_loss: 165.6674 - val_rmse: 12.8652 - val_mse: 165.6674\n",
      "Epoch 47/50\n",
      "1/1 [==============================] - 0s 461ms/step - loss: 138.8570 - rmse: 11.7838 - mse: 138.8570 - val_loss: 164.2558 - val_rmse: 12.8069 - val_mse: 164.2557\n",
      "Epoch 48/50\n",
      "1/1 [==============================] - 1s 522ms/step - loss: 164.1461 - rmse: 12.8120 - mse: 164.1461 - val_loss: 165.3740 - val_rmse: 12.8442 - val_mse: 165.3739\n",
      "Epoch 49/50\n",
      "1/1 [==============================] - 0s 466ms/step - loss: 155.3424 - rmse: 12.4636 - mse: 155.3424 - val_loss: 162.1359 - val_rmse: 12.7235 - val_mse: 162.1360\n",
      "Epoch 50/50\n",
      "1/1 [==============================] - 1s 502ms/step - loss: 146.8162 - rmse: 12.1168 - mse: 146.8162 - val_loss: 161.6604 - val_rmse: 12.7064 - val_mse: 161.6604\n"
     ]
    }
   ],
   "source": [
    "%time \n",
    "# TODO 3\n",
    "steps_per_epoch = NUM_TRAIN_EXAMPLES // (TRAIN_BATCH_SIZE * NUM_EVALS)\n",
    "\n",
    "LOGDIR = \"./taxi_trained\"\n",
    "# Train the sequential model\n",
    "history = model.fit(x=trainds,\n",
    "                    steps_per_epoch=steps_per_epoch,\n",
    "                    epochs=NUM_EVALS,\n",
    "                    validation_data=evalds,\n",
    "                    callbacks=[TensorBoard(LOGDIR)])"
   ]
  },
  {
   "cell_type": "markdown",
   "metadata": {},
   "source": [
    "### High-level model evaluation\n",
    "\n",
    "Once we've run data through the model, we can call `.summary()` on the model to get a high-level summary of our network. We can also plot the training and evaluation curves for the metrics we computed above. "
   ]
  },
  {
   "cell_type": "code",
   "execution_count": 11,
   "metadata": {},
   "outputs": [
    {
     "name": "stdout",
     "output_type": "stream",
     "text": [
      "Model: \"sequential\"\n",
      "_________________________________________________________________\n",
      "Layer (type)                 Output Shape              Param #   \n",
      "=================================================================\n",
      "dense_features (DenseFeature multiple                  0         \n",
      "_________________________________________________________________\n",
      "h1 (Dense)                   multiple                  192       \n",
      "_________________________________________________________________\n",
      "h2 (Dense)                   multiple                  594       \n",
      "_________________________________________________________________\n",
      "output (Dense)               multiple                  361       \n",
      "=================================================================\n",
      "Total params: 1,147\n",
      "Trainable params: 1,147\n",
      "Non-trainable params: 0\n",
      "_________________________________________________________________\n"
     ]
    }
   ],
   "source": [
    "# The summary() is a generic function used to produce result summaries of the results of various model fitting functions.\n",
    "model.summary()"
   ]
  },
  {
   "cell_type": "markdown",
   "metadata": {},
   "source": [
    "Running `.fit` (or `.fit_generator`) returns a History object which collects all the events recorded during training. Similar to Tensorboard, we can plot the training and validation curves for the model loss and rmse by accessing these elements of the History object."
   ]
  },
  {
   "cell_type": "code",
   "execution_count": 12,
   "metadata": {},
   "outputs": [
    {
     "data": {
      "text/plain": [
       "<AxesSubplot:>"
      ]
     },
     "execution_count": 12,
     "metadata": {},
     "output_type": "execute_result"
    },
    {
     "data": {
      "image/png": "[encoded data removed]",
      "text/plain": [
       "<Figure size 432x288 with 1 Axes>"
      ]
     },
     "metadata": {
      "needs_background": "light"
     },
     "output_type": "display_data"
    }
   ],
   "source": [
    "RMSE_COLS = ['rmse', 'val_rmse']\n",
    "\n",
    "# The history object is returned from calls to the fit() function used to train the model.\n",
    "# Metrics are stored in a dictionary in the history member of the object returned.\n",
    "pd.DataFrame(history.history)[RMSE_COLS].plot()"
   ]
  },
  {
   "cell_type": "code",
   "execution_count": 13,
   "metadata": {},
   "outputs": [
    {
     "data": {
      "text/plain": [
       "<AxesSubplot:>"
      ]
     },
     "execution_count": 13,
     "metadata": {},
     "output_type": "execute_result"
    },
    {
     "data": {
      "image/png": "[encoded data removed]",
      "text/plain": [
       "<Figure size 432x288 with 1 Axes>"
      ]
     },
     "metadata": {
      "needs_background": "light"
     },
     "output_type": "display_data"
    }
   ],
   "source": [
    "LOSS_COLS = ['loss', 'val_loss']\n",
    "\n",
    "# The history object is returned from calls to the fit() function used to train the model.\n",
    "# Metrics are stored in a dictionary in the history member of the object returned.\n",
    "pd.DataFrame(history.history)[LOSS_COLS].plot()"
   ]
  },
  {
   "cell_type": "markdown",
   "metadata": {},
   "source": [
    "# Making predictions with our model\n",
    "\n",
    "To make predictions with our trained model, we can call the [predict method](https://www.tensorflow.org/api_docs/python/tf/keras/Model#predict), passing to it a dictionary of values. The `steps` parameter determines the total number of steps before declaring the prediction round finished. Here since we have just one example, we set `steps=1` (setting `steps=None` would also work). Note, however, that if x is a `tf.data` dataset or a dataset iterator, and steps is set to None, predict will run until the input dataset is exhausted."
   ]
  },
  {
   "cell_type": "code",
   "execution_count": 14,
   "metadata": {},
   "outputs": [
    {
     "data": {
      "text/plain": [
       "array([[ 9.970594 ,  9.834785 ,  1.3578432, 10.298636 ,  7.891523 ,\n",
       "         4.0674157,  9.846767 ,  9.747939 , 13.934142 ,  7.710542 ,\n",
       "        -9.054125 , 10.481073 ,  5.8180723,  1.0256308, 13.010807 ,\n",
       "         7.535669 , 10.601777 , -1.0788436,  8.934683 ]], dtype=float32)"
      ]
     },
     "execution_count": 14,
     "metadata": {},
     "output_type": "execute_result"
    }
   ],
   "source": [
    "# The predict() method will predict the response for model. \n",
    "# Using tf.convert_to_tensor() we will convert the given value to a Tensor. \n",
    "model.predict(x={\"pickup_longitude\": tf.convert_to_tensor([-73.982683]),\n",
    "                 \"pickup_latitude\": tf.convert_to_tensor([40.742104]),\n",
    "                 \"dropoff_longitude\": tf.convert_to_tensor([-73.983766]),\n",
    "                 \"dropoff_latitude\": tf.convert_to_tensor([40.755174]),\n",
    "                 \"passenger_count\": tf.convert_to_tensor([3.0])},\n",
    "              steps=1)"
   ]
  },
  {
   "cell_type": "markdown",
   "metadata": {},
   "source": [
    "# Export and deploy our model\n",
    "\n",
    "Of course, making individual predictions is not realistic, because we can't expect client code to have a model object in memory. For others to use our trained model, we'll have to export our model to a file, and expect client code to instantiate the model from that exported file. \n",
    "\n",
    "We'll export the model to a TensorFlow SavedModel format. Once we have a model in this format, we have lots of ways to \"serve\" the model, from a web application, from JavaScript, from mobile applications, etc."
   ]
  },
  {
   "cell_type": "code",
   "execution_count": 15,
   "metadata": {},
   "outputs": [
    {
     "name": "stdout",
     "output_type": "stream",
     "text": [
      "WARNING:tensorflow:From /opt/conda/lib/python3.7/site-packages/tensorflow_core/python/ops/resource_variable_ops.py:1786: calling BaseResourceVariable.__init__ (from tensorflow.python.ops.resource_variable_ops) with constraint is deprecated and will be removed in a future version.\n",
      "Instructions for updating:\n",
      "If using Keras pass *_constraint arguments to layers.\n",
      "INFO:tensorflow:Assets written to: ./export/savedmodel/20210526052941/assets\n"
     ]
    }
   ],
   "source": [
    "# TODO 4a\n",
    "OUTPUT_DIR = \"./export/savedmodel\"\n",
    "shutil.rmtree(OUTPUT_DIR, ignore_errors=True)\n",
    "# The join() method takes all items in an iterable and joins them into one string.\n",
    "EXPORT_PATH = os.path.join(OUTPUT_DIR,\n",
    "                           datetime.datetime.now().strftime(\"%Y%m%d%H%M%S\"))\n",
    "tf.saved_model.save(model, EXPORT_PATH)  # with default serving function"
   ]
  },
  {
   "cell_type": "code",
   "execution_count": 16,
   "metadata": {},
   "outputs": [
    {
     "name": "stdout",
     "output_type": "stream",
     "text": [
      "The given SavedModel SignatureDef contains the following input(s):\n",
      "  inputs['dropoff_latitude'] tensor_info:\n",
      "      dtype: DT_FLOAT\n",
      "      shape: (-1, 1)\n",
      "      name: serving_default_dropoff_latitude:0\n",
      "  inputs['dropoff_longitude'] tensor_info:\n",
      "      dtype: DT_FLOAT\n",
      "      shape: (-1, 1)\n",
      "      name: serving_default_dropoff_longitude:0\n",
      "  inputs['passenger_count'] tensor_info:\n",
      "      dtype: DT_FLOAT\n",
      "      shape: (-1, 1)\n",
      "      name: serving_default_passenger_count:0\n",
      "  inputs['pickup_latitude'] tensor_info:\n",
      "      dtype: DT_FLOAT\n",
      "      shape: (-1, 1)\n",
      "      name: serving_default_pickup_latitude:0\n",
      "  inputs['pickup_longitude'] tensor_info:\n",
      "      dtype: DT_FLOAT\n",
      "      shape: (-1, 1)\n",
      "      name: serving_default_pickup_longitude:0\n",
      "The given SavedModel SignatureDef contains the following output(s):\n",
      "  outputs['output_1'] tensor_info:\n",
      "      dtype: DT_FLOAT\n",
      "      shape: (-1, 19)\n",
      "      name: StatefulPartitionedCall:0\n",
      "Method name is: tensorflow/serving/predict\n",
      "./export/savedmodel/20210526052941\n",
      "./export/savedmodel/20210526052941/assets\n",
      "./export/savedmodel/20210526052941/saved_model.pb\n",
      "./export/savedmodel/20210526052941/variables\n",
      "./export/savedmodel/20210526052941/variables/variables.data-00000-of-00001\n",
      "./export/savedmodel/20210526052941/variables/variables.index\n"
     ]
    }
   ],
   "source": [
    "# Export the model to a TensorFlow SavedModel format\n",
    "# TODO 4b\n",
    "!saved_model_cli show \\\n",
    " --tag_set serve \\\n",
    " --signature_def serving_default \\\n",
    " --dir {EXPORT_PATH}\n",
    "!find {EXPORT_PATH}\n",
    "os.environ['EXPORT_PATH'] = EXPORT_PATH"
   ]
  },
  {
   "cell_type": "markdown",
   "metadata": {},
   "source": [
    "### Deploy our model to AI Platform\n",
    "\n",
    "Finally, we will deploy our trained model to AI Platform and see how we can make online predicitons. "
   ]
  },
  {
   "cell_type": "code",
   "execution_count": 17,
   "metadata": {},
   "outputs": [
    {
     "name": "stderr",
     "output_type": "stream",
     "text": [
      "Updated property [compute/region].\n",
      "Updated property [ai_platform/region].\n"
     ]
    }
   ],
   "source": [
    "%%bash\n",
    "gcloud config set compute/region us-east1\n",
    "gcloud config set ai_platform/region global\n"
   ]
  },
  {
   "cell_type": "markdown",
   "metadata": {},
   "source": [
    "**Below cell will take around 10 minutes to complete.**"
   ]
  },
  {
   "cell_type": "code",
   "execution_count": 22,
   "metadata": {},
   "outputs": [
    {
     "name": "stdout",
     "output_type": "stream",
     "text": [
      "Creating a new GCS bucket.\n",
      "Here are your current buckets:\n",
      "taxifare already exists\n",
      "Creating taxifare:dnn\n"
     ]
    },
    {
     "name": "stderr",
     "output_type": "stream",
     "text": [
      "CommandException: option -l not recognized\n",
      "Using endpoint [https://us-east1-ml.googleapis.com/]\n",
      "Using endpoint [https://us-east1-ml.googleapis.com/]\n",
      "Using endpoint [https://us-east1-ml.googleapis.com/]\n",
      "ERROR: (gcloud.ai-platform.versions.create) Could not upload file: [qwiklabs-gcp-00-08c0fbdbe48b] bucket does not exist.\n"
     ]
    },
    {
     "ename": "CalledProcessError",
     "evalue": "Command 'b'\\n# TODO 5a\\n\\nPROJECT=qwiklabs-gcp-00-08c0fbdbe48b\\nBUCKET=${PROJECT}\\nREGION=us-east1\\nMODEL_NAME=taxifare\\nVERSION_NAME=dnn\\n\\n# Create GCS bucket if it doesn\\'t exist already...\\nexists=$(gsutil ls -d | grep -w gs://${BUCKET}/)\\n\\nif [ -n \"$exists\" ]; then\\n    echo -e \"Bucket exists, let\\'s not recreate it.\"\\nelse\\n    echo \"Creating a new GCS bucket.\"\\n    gsutil -l ${REGION} gs://${BUCKET}\\n    echo \"Here are your current buckets:\"\\n    gsutil ls\\nfi\\n\\nif [[ $(gcloud ai-platform models list --format=\\'value(name)\\' --region=$REGION | grep $MODEL_NAME) ]]; then\\n    echo \"$MODEL_NAME already exists\"\\nelse\\n    echo \"Creating $MODEL_NAME\"\\n    gcloud ai-platform models create --region=$REGION $MODEL_NAME\\nfi\\n\\nif [[ $(gcloud ai-platform versions list --model $MODEL_NAME --region=$REGION --format=\\'value(name)\\' | grep $VERSION_NAME) ]]; then\\n    echo \"Deleting already existing $MODEL_NAME:$VERSION_NAME ... \"\\n    echo yes | gcloud ai-platform versions delete --model=$MODEL_NAME $VERSION_NAME --region=$REGION\\n    echo \"Please run this cell again if you don\\'t see a Creating message ... \"\\n    sleep 2\\nfi\\n\\necho \"Creating $MODEL_NAME:$VERSION_NAME\"\\ngcloud ai-platform versions create --model=$MODEL_NAME $VERSION_NAME \\\\\\n       --framework=tensorflow --python-version=3.7 --runtime-version=2.1 \\\\\\n       --origin=$EXPORT_PATH --staging-bucket=gs://$BUCKET --region=$REGION\\n'' returned non-zero exit status 1.",
     "output_type": "error",
     "traceback": [
      "\u001b[0;31m---------------------------------------------------------------------------\u001b[0m",
      "\u001b[0;31mCalledProcessError\u001b[0m                        Traceback (most recent call last)",
      "\u001b[0;32m<ipython-input-22-bcf93b2649d6>\u001b[0m in \u001b[0;36m<module>\u001b[0;34m\u001b[0m\n\u001b[0;32m----> 1\u001b[0;31m \u001b[0mget_ipython\u001b[0m\u001b[0;34m(\u001b[0m\u001b[0;34m)\u001b[0m\u001b[0;34m.\u001b[0m\u001b[0mrun_cell_magic\u001b[0m\u001b[0;34m(\u001b[0m\u001b[0;34m'bash'\u001b[0m\u001b[0;34m,\u001b[0m \u001b[0;34m''\u001b[0m\u001b[0;34m,\u001b[0m \u001b[0;34m'\\n# TODO 5a\\n\\nPROJECT=qwiklabs-gcp-00-08c0fbdbe48b\\nBUCKET=${PROJECT}\\nREGION=us-east1\\nMODEL_NAME=taxifare\\nVERSION_NAME=dnn\\n\\n# Create GCS bucket if it doesn\\'t exist already...\\nexists=$(gsutil ls -d | grep -w gs://${BUCKET}/)\\n\\nif [ -n \"$exists\" ]; then\\n    echo -e \"Bucket exists, let\\'s not recreate it.\"\\nelse\\n    echo \"Creating a new GCS bucket.\"\\n    gsutil -l ${REGION} gs://${BUCKET}\\n    echo \"Here are your current buckets:\"\\n    gsutil ls\\nfi\\n\\nif [[ $(gcloud ai-platform models list --format=\\'value(name)\\' --region=$REGION | grep $MODEL_NAME) ]]; then\\n    echo \"$MODEL_NAME already exists\"\\nelse\\n    echo \"Creating $MODEL_NAME\"\\n    gcloud ai-platform models create --region=$REGION $MODEL_NAME\\nfi\\n\\nif [[ $(gcloud ai-platform versions list --model $MODEL_NAME --region=$REGION --format=\\'value(name)\\' | grep $VERSION_NAME) ]]; then\\n    echo \"Deleting already existing $MODEL_NAME:$VERSION_NAME ... \"\\n    echo yes | gcloud ai-platform versions delete --model=$MODEL_NAME $VERSION_NAME --region=$REGION\\n    echo \"Please run this cell again if you don\\'t see a Creating message ... \"\\n    sleep 2\\nfi\\n\\necho \"Creating $MODEL_NAME:$VERSION_NAME\"\\ngcloud ai-platform versions create --model=$MODEL_NAME $VERSION_NAME \\\\\\n       --framework=tensorflow --python-version=3.7 --runtime-version=2.1 \\\\\\n       --origin=$EXPORT_PATH --staging-bucket=gs://$BUCKET --region=$REGION\\n'\u001b[0m\u001b[0;34m)\u001b[0m\u001b[0;34m\u001b[0m\u001b[0;34m\u001b[0m\u001b[0m\n\u001b[0m",
      "\u001b[0;32m/opt/conda/lib/python3.7/site-packages/IPython/core/interactiveshell.py\u001b[0m in \u001b[0;36mrun_cell_magic\u001b[0;34m(self, magic_name, line, cell)\u001b[0m\n\u001b[1;32m   2401\u001b[0m             \u001b[0;32mwith\u001b[0m \u001b[0mself\u001b[0m\u001b[0;34m.\u001b[0m\u001b[0mbuiltin_trap\u001b[0m\u001b[0;34m:\u001b[0m\u001b[0;34m\u001b[0m\u001b[0;34m\u001b[0m\u001b[0m\n\u001b[1;32m   2402\u001b[0m                 \u001b[0margs\u001b[0m \u001b[0;34m=\u001b[0m \u001b[0;34m(\u001b[0m\u001b[0mmagic_arg_s\u001b[0m\u001b[0;34m,\u001b[0m \u001b[0mcell\u001b[0m\u001b[0;34m)\u001b[0m\u001b[0;34m\u001b[0m\u001b[0;34m\u001b[0m\u001b[0m\n\u001b[0;32m-> 2403\u001b[0;31m                 \u001b[0mresult\u001b[0m \u001b[0;34m=\u001b[0m \u001b[0mfn\u001b[0m\u001b[0;34m(\u001b[0m\u001b[0;34m*\u001b[0m\u001b[0margs\u001b[0m\u001b[0;34m,\u001b[0m \u001b[0;34m**\u001b[0m\u001b[0mkwargs\u001b[0m\u001b[0;34m)\u001b[0m\u001b[0;34m\u001b[0m\u001b[0;34m\u001b[0m\u001b[0m\n\u001b[0m\u001b[1;32m   2404\u001b[0m             \u001b[0;32mreturn\u001b[0m \u001b[0mresult\u001b[0m\u001b[0;34m\u001b[0m\u001b[0;34m\u001b[0m\u001b[0m\n\u001b[1;32m   2405\u001b[0m \u001b[0;34m\u001b[0m\u001b[0m\n",
      "\u001b[0;32m/opt/conda/lib/python3.7/site-packages/IPython/core/magics/script.py\u001b[0m in \u001b[0;36mnamed_script_magic\u001b[0;34m(line, cell)\u001b[0m\n\u001b[1;32m    140\u001b[0m             \u001b[0;32melse\u001b[0m\u001b[0;34m:\u001b[0m\u001b[0;34m\u001b[0m\u001b[0;34m\u001b[0m\u001b[0m\n\u001b[1;32m    141\u001b[0m                 \u001b[0mline\u001b[0m \u001b[0;34m=\u001b[0m \u001b[0mscript\u001b[0m\u001b[0;34m\u001b[0m\u001b[0;34m\u001b[0m\u001b[0m\n\u001b[0;32m--> 142\u001b[0;31m             \u001b[0;32mreturn\u001b[0m \u001b[0mself\u001b[0m\u001b[0;34m.\u001b[0m\u001b[0mshebang\u001b[0m\u001b[0;34m(\u001b[0m\u001b[0mline\u001b[0m\u001b[0;34m,\u001b[0m \u001b[0mcell\u001b[0m\u001b[0;34m)\u001b[0m\u001b[0;34m\u001b[0m\u001b[0;34m\u001b[0m\u001b[0m\n\u001b[0m\u001b[1;32m    143\u001b[0m \u001b[0;34m\u001b[0m\u001b[0m\n\u001b[1;32m    144\u001b[0m         \u001b[0;31m# write a basic docstring:\u001b[0m\u001b[0;34m\u001b[0m\u001b[0;34m\u001b[0m\u001b[0;34m\u001b[0m\u001b[0m\n",
      "\u001b[0;32m/opt/conda/lib/python3.7/site-packages/decorator.py\u001b[0m in \u001b[0;36mfun\u001b[0;34m(*args, **kw)\u001b[0m\n\u001b[1;32m    230\u001b[0m             \u001b[0;32mif\u001b[0m \u001b[0;32mnot\u001b[0m \u001b[0mkwsyntax\u001b[0m\u001b[0;34m:\u001b[0m\u001b[0;34m\u001b[0m\u001b[0;34m\u001b[0m\u001b[0m\n\u001b[1;32m    231\u001b[0m                 \u001b[0margs\u001b[0m\u001b[0;34m,\u001b[0m \u001b[0mkw\u001b[0m \u001b[0;34m=\u001b[0m \u001b[0mfix\u001b[0m\u001b[0;34m(\u001b[0m\u001b[0margs\u001b[0m\u001b[0;34m,\u001b[0m \u001b[0mkw\u001b[0m\u001b[0;34m,\u001b[0m \u001b[0msig\u001b[0m\u001b[0;34m)\u001b[0m\u001b[0;34m\u001b[0m\u001b[0;34m\u001b[0m\u001b[0m\n\u001b[0;32m--> 232\u001b[0;31m             \u001b[0;32mreturn\u001b[0m \u001b[0mcaller\u001b[0m\u001b[0;34m(\u001b[0m\u001b[0mfunc\u001b[0m\u001b[0;34m,\u001b[0m \u001b[0;34m*\u001b[0m\u001b[0;34m(\u001b[0m\u001b[0mextras\u001b[0m \u001b[0;34m+\u001b[0m \u001b[0margs\u001b[0m\u001b[0;34m)\u001b[0m\u001b[0;34m,\u001b[0m \u001b[0;34m**\u001b[0m\u001b[0mkw\u001b[0m\u001b[0;34m)\u001b[0m\u001b[0;34m\u001b[0m\u001b[0;34m\u001b[0m\u001b[0m\n\u001b[0m\u001b[1;32m    233\u001b[0m     \u001b[0mfun\u001b[0m\u001b[0;34m.\u001b[0m\u001b[0m__name__\u001b[0m \u001b[0;34m=\u001b[0m \u001b[0mfunc\u001b[0m\u001b[0;34m.\u001b[0m\u001b[0m__name__\u001b[0m\u001b[0;34m\u001b[0m\u001b[0;34m\u001b[0m\u001b[0m\n\u001b[1;32m    234\u001b[0m     \u001b[0mfun\u001b[0m\u001b[0;34m.\u001b[0m\u001b[0m__doc__\u001b[0m \u001b[0;34m=\u001b[0m \u001b[0mfunc\u001b[0m\u001b[0;34m.\u001b[0m\u001b[0m__doc__\u001b[0m\u001b[0;34m\u001b[0m\u001b[0;34m\u001b[0m\u001b[0m\n",
      "\u001b[0;32m/opt/conda/lib/python3.7/site-packages/IPython/core/magic.py\u001b[0m in \u001b[0;36m<lambda>\u001b[0;34m(f, *a, **k)\u001b[0m\n\u001b[1;32m    185\u001b[0m     \u001b[0;31m# but it's overkill for just that one bit of state.\u001b[0m\u001b[0;34m\u001b[0m\u001b[0;34m\u001b[0m\u001b[0;34m\u001b[0m\u001b[0m\n\u001b[1;32m    186\u001b[0m     \u001b[0;32mdef\u001b[0m \u001b[0mmagic_deco\u001b[0m\u001b[0;34m(\u001b[0m\u001b[0marg\u001b[0m\u001b[0;34m)\u001b[0m\u001b[0;34m:\u001b[0m\u001b[0;34m\u001b[0m\u001b[0;34m\u001b[0m\u001b[0m\n\u001b[0;32m--> 187\u001b[0;31m         \u001b[0mcall\u001b[0m \u001b[0;34m=\u001b[0m \u001b[0;32mlambda\u001b[0m \u001b[0mf\u001b[0m\u001b[0;34m,\u001b[0m \u001b[0;34m*\u001b[0m\u001b[0ma\u001b[0m\u001b[0;34m,\u001b[0m \u001b[0;34m**\u001b[0m\u001b[0mk\u001b[0m\u001b[0;34m:\u001b[0m \u001b[0mf\u001b[0m\u001b[0;34m(\u001b[0m\u001b[0;34m*\u001b[0m\u001b[0ma\u001b[0m\u001b[0;34m,\u001b[0m \u001b[0;34m**\u001b[0m\u001b[0mk\u001b[0m\u001b[0;34m)\u001b[0m\u001b[0;34m\u001b[0m\u001b[0;34m\u001b[0m\u001b[0m\n\u001b[0m\u001b[1;32m    188\u001b[0m \u001b[0;34m\u001b[0m\u001b[0m\n\u001b[1;32m    189\u001b[0m         \u001b[0;32mif\u001b[0m \u001b[0mcallable\u001b[0m\u001b[0;34m(\u001b[0m\u001b[0marg\u001b[0m\u001b[0;34m)\u001b[0m\u001b[0;34m:\u001b[0m\u001b[0;34m\u001b[0m\u001b[0;34m\u001b[0m\u001b[0m\n",
      "\u001b[0;32m/opt/conda/lib/python3.7/site-packages/IPython/core/magics/script.py\u001b[0m in \u001b[0;36mshebang\u001b[0;34m(self, line, cell)\u001b[0m\n\u001b[1;32m    243\u001b[0m             \u001b[0msys\u001b[0m\u001b[0;34m.\u001b[0m\u001b[0mstderr\u001b[0m\u001b[0;34m.\u001b[0m\u001b[0mflush\u001b[0m\u001b[0;34m(\u001b[0m\u001b[0;34m)\u001b[0m\u001b[0;34m\u001b[0m\u001b[0;34m\u001b[0m\u001b[0m\n\u001b[1;32m    244\u001b[0m         \u001b[0;32mif\u001b[0m \u001b[0margs\u001b[0m\u001b[0;34m.\u001b[0m\u001b[0mraise_error\u001b[0m \u001b[0;32mand\u001b[0m \u001b[0mp\u001b[0m\u001b[0;34m.\u001b[0m\u001b[0mreturncode\u001b[0m\u001b[0;34m!=\u001b[0m\u001b[0;36m0\u001b[0m\u001b[0;34m:\u001b[0m\u001b[0;34m\u001b[0m\u001b[0;34m\u001b[0m\u001b[0m\n\u001b[0;32m--> 245\u001b[0;31m             \u001b[0;32mraise\u001b[0m \u001b[0mCalledProcessError\u001b[0m\u001b[0;34m(\u001b[0m\u001b[0mp\u001b[0m\u001b[0;34m.\u001b[0m\u001b[0mreturncode\u001b[0m\u001b[0;34m,\u001b[0m \u001b[0mcell\u001b[0m\u001b[0;34m,\u001b[0m \u001b[0moutput\u001b[0m\u001b[0;34m=\u001b[0m\u001b[0mout\u001b[0m\u001b[0;34m,\u001b[0m \u001b[0mstderr\u001b[0m\u001b[0;34m=\u001b[0m\u001b[0merr\u001b[0m\u001b[0;34m)\u001b[0m\u001b[0;34m\u001b[0m\u001b[0;34m\u001b[0m\u001b[0m\n\u001b[0m\u001b[1;32m    246\u001b[0m \u001b[0;34m\u001b[0m\u001b[0m\n\u001b[1;32m    247\u001b[0m     \u001b[0;32mdef\u001b[0m \u001b[0m_run_script\u001b[0m\u001b[0;34m(\u001b[0m\u001b[0mself\u001b[0m\u001b[0;34m,\u001b[0m \u001b[0mp\u001b[0m\u001b[0;34m,\u001b[0m \u001b[0mcell\u001b[0m\u001b[0;34m,\u001b[0m \u001b[0mto_close\u001b[0m\u001b[0;34m)\u001b[0m\u001b[0;34m:\u001b[0m\u001b[0;34m\u001b[0m\u001b[0;34m\u001b[0m\u001b[0m\n",
      "\u001b[0;31mCalledProcessError\u001b[0m: Command 'b'\\n# TODO 5a\\n\\nPROJECT=qwiklabs-gcp-00-08c0fbdbe48b\\nBUCKET=${PROJECT}\\nREGION=us-east1\\nMODEL_NAME=taxifare\\nVERSION_NAME=dnn\\n\\n# Create GCS bucket if it doesn\\'t exist already...\\nexists=$(gsutil ls -d | grep -w gs://${BUCKET}/)\\n\\nif [ -n \"$exists\" ]; then\\n    echo -e \"Bucket exists, let\\'s not recreate it.\"\\nelse\\n    echo \"Creating a new GCS bucket.\"\\n    gsutil -l ${REGION} gs://${BUCKET}\\n    echo \"Here are your current buckets:\"\\n    gsutil ls\\nfi\\n\\nif [[ $(gcloud ai-platform models list --format=\\'value(name)\\' --region=$REGION | grep $MODEL_NAME) ]]; then\\n    echo \"$MODEL_NAME already exists\"\\nelse\\n    echo \"Creating $MODEL_NAME\"\\n    gcloud ai-platform models create --region=$REGION $MODEL_NAME\\nfi\\n\\nif [[ $(gcloud ai-platform versions list --model $MODEL_NAME --region=$REGION --format=\\'value(name)\\' | grep $VERSION_NAME) ]]; then\\n    echo \"Deleting already existing $MODEL_NAME:$VERSION_NAME ... \"\\n    echo yes | gcloud ai-platform versions delete --model=$MODEL_NAME $VERSION_NAME --region=$REGION\\n    echo \"Please run this cell again if you don\\'t see a Creating message ... \"\\n    sleep 2\\nfi\\n\\necho \"Creating $MODEL_NAME:$VERSION_NAME\"\\ngcloud ai-platform versions create --model=$MODEL_NAME $VERSION_NAME \\\\\\n       --framework=tensorflow --python-version=3.7 --runtime-version=2.1 \\\\\\n       --origin=$EXPORT_PATH --staging-bucket=gs://$BUCKET --region=$REGION\\n'' returned non-zero exit status 1."
     ]
    }
   ],
   "source": [
    "%%bash\n",
    "\n",
    "# TODO 5a\n",
    "\n",
    "PROJECT=qwiklabs-gcp-00-08c0fbdbe48b\n",
    "BUCKET=${PROJECT}\n",
    "REGION=us-east1\n",
    "MODEL_NAME=taxifare\n",
    "VERSION_NAME=dnn\n",
    "\n",
    "# Create GCS bucket if it doesn't exist already...\n",
    "exists=$(gsutil ls -d | grep -w gs://${BUCKET}/)\n",
    "\n",
    "if [ -n \"$exists\" ]; then\n",
    "    echo -e \"Bucket exists, let's not recreate it.\"\n",
    "else\n",
    "    echo \"Creating a new GCS bucket.\"\n",
    "    gsutil -l ${REGION} gs://${BUCKET}\n",
    "    echo \"Here are your current buckets:\"\n",
    "    gsutil ls\n",
    "fi\n",
    "\n",
    "if [[ $(gcloud ai-platform models list --format='value(name)' --region=$REGION | grep $MODEL_NAME) ]]; then\n",
    "    echo \"$MODEL_NAME already exists\"\n",
    "else\n",
    "    echo \"Creating $MODEL_NAME\"\n",
    "    gcloud ai-platform models create --region=$REGION $MODEL_NAME\n",
    "fi\n",
    "\n",
    "if [[ $(gcloud ai-platform versions list --model $MODEL_NAME --region=$REGION --format='value(name)' | grep $VERSION_NAME) ]]; then\n",
    "    echo \"Deleting already existing $MODEL_NAME:$VERSION_NAME ... \"\n",
    "    echo yes | gcloud ai-platform versions delete --model=$MODEL_NAME $VERSION_NAME --region=$REGION\n",
    "    echo \"Please run this cell again if you don't see a Creating message ... \"\n",
    "    sleep 2\n",
    "fi\n",
    "\n",
    "echo \"Creating $MODEL_NAME:$VERSION_NAME\"\n",
    "gcloud ai-platform versions create --model=$MODEL_NAME $VERSION_NAME \\\n",
    "       --framework=tensorflow --python-version=3.7 --runtime-version=2.1 \\\n",
    "       --origin=$EXPORT_PATH --staging-bucket=gs://$BUCKET --region=$REGION"
   ]
  },
  {
   "cell_type": "code",
   "execution_count": null,
   "metadata": {},
   "outputs": [
    {
     "name": "stdout",
     "output_type": "stream",
     "text": [
      "Writing input.json\n"
     ]
    }
   ],
   "source": [
    "%%writefile input.json\n",
    "{\"pickup_longitude\": -73.982683, \"pickup_latitude\": 40.742104,\"dropoff_longitude\": -73.983766,\"dropoff_latitude\": 40.755174,\"passenger_count\": 3.0}  "
   ]
  },
  {
   "cell_type": "code",
   "execution_count": null,
   "metadata": {},
   "outputs": [
    {
     "name": "stdout",
     "output_type": "stream",
     "text": [
      "Using endpoint [https://ml.googleapis.com/]\n",
      "OUTPUT_1\n",
      "[0.04512186720967293]\n"
     ]
    }
   ],
   "source": [
    "# The `gcloud ai-platform predict` sends a prediction request to AI Platform for the given instances.\n",
    "# TODO 5b\n",
    "!gcloud ai-platform predict --model taxifare --json-instances input.json --version dnn --region us-east1"
   ]
  },
  {
   "cell_type": "markdown",
   "metadata": {},
   "source": [
    "Copyright 2020 Google Inc. Licensed under the Apache License, Version 2.0 (the \"License\"); you may not use this file except in compliance with the License. You may obtain a copy of the License at http://www.apache.org/licenses/LICENSE-2.0 Unless required by applicable law or agreed to in writing, software distributed under the License is distributed on an \"AS IS\" BASIS, WITHOUT WARRANTIES OR CONDITIONS OF ANY KIND, either express or implied. See the License for the specific language governing permissions and limitations under the License"
   ]
  }
 ],
 "metadata": {
  "environment": {
   "name": "tf2-gpu.2-1.m69",
   "type": "gcloud",
   "uri": "gcr.io/deeplearning-platform-release/tf2-gpu.2-1:m69"
  },
  "kernelspec": {
   "display_name": "Python 3",
   "language": "python",
   "name": "python3"
  },
  "language_info": {
   "codemirror_mode": {
    "name": "ipython",
    "version": 3
   },
   "file_extension": ".py",
   "mimetype": "text/x-python",
   "name": "python",
   "nbconvert_exporter": "python",
   "pygments_lexer": "ipython3",
   "version": "3.7.10"
  }
 },
 "nbformat": 4,
 "nbformat_minor": 4
}
